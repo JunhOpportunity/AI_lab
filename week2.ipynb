{
  "nbformat": 4,
  "nbformat_minor": 0,
  "metadata": {
    "colab": {
      "provenance": [],
      "gpuType": "T4",
      "authorship_tag": "ABX9TyPSwPkrKltvjupF60DyeY5y",
      "include_colab_link": true
    },
    "kernelspec": {
      "name": "python3",
      "display_name": "Python 3"
    },
    "language_info": {
      "name": "python"
    },
    "accelerator": "GPU"
  },
  "cells": [
    {
      "cell_type": "markdown",
      "metadata": {
        "id": "view-in-github",
        "colab_type": "text"
      },
      "source": [
        "<a href=\"https://colab.research.google.com/github/JunhOpportunity/AI_lab/blob/main/week2.ipynb\" target=\"_parent\"><img src=\"https://colab.research.google.com/assets/colab-badge.svg\" alt=\"Open In Colab\"/></a>"
      ]
    },
    {
      "cell_type": "code",
      "execution_count": 20,
      "metadata": {
        "colab": {
          "base_uri": "https://localhost:8080/"
        },
        "id": "i3solUvhbR9m",
        "outputId": "e5c031eb-1479-4f1f-9f1c-1cbb8b3ae310"
      },
      "outputs": [
        {
          "output_type": "stream",
          "name": "stdout",
          "text": [
            "True\n",
            "test_tensor: tensor([1, 2, 3, 4])\n",
            "tesnor device: cpu\n",
            "tesnor device: cuda:0\n",
            "✓ Basic operation test (squaring): tensor([ 1,  4,  9, 16], device='cuda:0')\n"
          ]
        }
      ],
      "source": [
        "import torch\n",
        "\n",
        "print(torch.cuda.is_available())\n",
        "\n",
        "# if torch.cuda.is_available():\n",
        "#   tensor_gpu = torch.tensor.to('cuda')\n",
        "\n",
        "test_tensor = torch.tensor([1,2,3,4])\n",
        "print(f\"test_tensor: {test_tensor}\")\n",
        "print(f\"tesnor device: {test_tensor.device}\")\n",
        "\n",
        "test_tensor = test_tensor.to('cuda')\n",
        "print(f\"tesnor device: {test_tensor.device}\")\n",
        "\n",
        "squared_tensor = test_tensor ** 2\n",
        "print(f\"Basic operation test (squaring): {squared_tensor}\")"
      ]
    },
    {
      "cell_type": "code",
      "source": [],
      "metadata": {
        "id": "aXnsJLFGcoAA"
      },
      "execution_count": null,
      "outputs": []
    }
  ]
}